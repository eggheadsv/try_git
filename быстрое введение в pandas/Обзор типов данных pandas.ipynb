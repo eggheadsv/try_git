{
  "nbformat": 4,
  "nbformat_minor": 0,
  "metadata": {
    "kernelspec": {
      "display_name": "Python 3",
      "language": "python",
      "name": "python3"
    },
    "language_info": {
      "codemirror_mode": {
        "name": "ipython",
        "version": 3
      },
      "file_extension": ".py",
      "mimetype": "text/x-python",
      "name": "python",
      "nbconvert_exporter": "python",
      "pygments_lexer": "ipython3",
      "version": "3.8.3"
    },
    "colab": {
      "name": "Обзор типов данных pandas.ipynb",
      "provenance": [],
      "include_colab_link": true
    }
  },
  "cells": [
    {
      "cell_type": "markdown",
      "metadata": {
        "id": "view-in-github",
        "colab_type": "text"
      },
      "source": [
        "<a href=\"https://colab.research.google.com/github/eggheadsv/try_git/blob/master/%D0%B1%D1%8B%D1%81%D1%82%D1%80%D0%BE%D0%B5%20%D0%B2%D0%B2%D0%B5%D0%B4%D0%B5%D0%BD%D0%B8%D0%B5%20%D0%B2%20pandas/%D0%9E%D0%B1%D0%B7%D0%BE%D1%80%20%D1%82%D0%B8%D0%BF%D0%BE%D0%B2%20%D0%B4%D0%B0%D0%BD%D0%BD%D1%8B%D1%85%20pandas.ipynb\" target=\"_parent\"><img src=\"https://colab.research.google.com/assets/colab-badge.svg\" alt=\"Open In Colab\"/></a>"
      ]
    },
    {
      "cell_type": "markdown",
      "metadata": {
        "id": "eFXQ6gE_bWof"
      },
      "source": [
        "# Обзор типов данных Pandas\n",
        "\n",
        "<a href=\"https://t.me/init_python\"><img src=\"https://dfedorov.spb.ru/pandas/logo-telegram.png\" width=\"35\" height=\"35\" alt=\"telegram\" align=\"left\"></a>"
      ]
    },
    {
      "cell_type": "markdown",
      "metadata": {
        "id": "vEqJVuTybWoj"
      },
      "source": [
        "<a href=\"https://colab.research.google.com/github/dm-fedorov/pandas_basic/blob/master/быстрое%20введение%20в%20pandas/Обзор%20типов%20данных%20pandas.ipynb\"><img align=\"left\" src=\"https://colab.research.google.com/assets/colab-badge.svg\" alt=\"Open in Colab\" title=\"Open and Execute in Google Colaboratory\" target=\"_blank\"></a>"
      ]
    },
    {
      "cell_type": "markdown",
      "metadata": {
        "id": "6nZT3tivbWok"
      },
      "source": [
        "## Введение\n",
        "\n",
        "В процессе анализа данных важно убедиться, что вы используете правильные типы данных; в противном случае можете получить неожиданные результаты или ошибки. В этой статье будут обсуждаться основные типы данных pandas (также известные как [`dtypes`](https://pandas.pydata.org/pandas-docs/stable/reference/api/pandas.DataFrame.dtypes.html)), их сопоставление с типами данных Python и NumPy, а также варианты преобразования.\n",
        "\n",
        "> Оригинал статьи Криса [тут](http://pbpython.com/pandas_dtypes.html)."
      ]
    },
    {
      "cell_type": "markdown",
      "metadata": {
        "id": "sRGy1XX4bWol"
      },
      "source": [
        "## Типы данных Pandas\n",
        "\n",
        "*Тип данных* - это, по сути, внутреннее представление, которое язык программирования использует для понимания того, как данные хранить и как ими оперировать. Например, программа должна понимать, что вы хотите сложить два числа, например `5 + 10`, чтобы получить `15`. Или, если у вас есть две строки, такие как `\"кошка\"` и `\"шляпа\"` вы можете объединить (сложить) их вместе, чтобы получить `\"кошкашляпа\"`.\n",
        "\n",
        "Проблема с типами данных pandas заключается в том, что между pandas, Python и NumPy существует некоторое совпадение. \n",
        "\n",
        "В следующей таблице приведены основные ключевые моменты:"
      ]
    },
    {
      "cell_type": "markdown",
      "metadata": {
        "id": "_wQtTpmpbWom"
      },
      "source": [
        "|Pandas        | Python        | NumPy                                                         | Использование                                         |\n",
        "|---           |---            |---                                                            |---                                                    |\n",
        "|object        |str или смесь  |string_, unicode_, смешанные типы                              | Текстовые или смешанные числовые и нечисловые значения|\n",
        "|int64         |int            |int_, int8, int16, int32, int64, uint8, uint16, uint32, uint64 | Целые числа                                           |\n",
        "|float64       |float          |float_, float16, float32, float64                              | Числа с плавающей точкой                              |\n",
        "|bool          |bool           |bool_                                                          | Значения True/False                                   |\n",
        "|datetime64    |datetime             |datetime64[ns]                                                 | Значения даты и времени                               |\n",
        "|timedelta[ns] |NA             |NA                                                             | Разность между двумя datetimes                        |\n",
        "|category      |NA             |NA                                                             | Ограниченный список текстовых значений                |"
      ]
    },
    {
      "cell_type": "markdown",
      "metadata": {
        "id": "FAlTLOzsbWom"
      },
      "source": [
        "В этом Блокноте я сосредоточусь на следующих типах данных pandas:\n",
        "\n",
        "- `object`\n",
        "- `int64`\n",
        "- `float64`\n",
        "- `datetime64`\n",
        "- `bool`\n",
        "\n",
        "Про тип `category` смотрите в [отдельной статье](https://pbpython.com/pandas_dtypes_cat.html). "
      ]
    },
    {
      "cell_type": "markdown",
      "metadata": {
        "id": "p5_Pb4FvbWon"
      },
      "source": [
        "Тип данных `object` может фактически содержать несколько разных типов. Например, столбец `a` может включать целые числа, числа с плавающей точкой и строки, которые вместе помечаются как `object`. Следовательно, вам могут потребоваться некоторые дополнительные методы для обработки смешанных типов данных. \n",
        "\n",
        "В этой [статье](https://pbpython.com/currency-cleanup.html) (а [тут](http://dfedorov.spb.ru/pandas/%D0%9E%D1%87%D0%B8%D1%81%D1%82%D0%BA%D0%B0%20%D0%B4%D0%B0%D0%BD%D0%BD%D1%8B%D1%85%20%D0%BE%20%D0%B2%D0%B0%D0%BB%D1%8E%D1%82%D0%B5%20%D1%81%20%D0%BF%D0%BE%D0%BC%D0%BE%D1%89%D1%8C%D1%8E%20pandas.html) перевод статьи на русский язык) вы найдете инструкцию по очистке данных, представленных ниже."
      ]
    },
    {
      "cell_type": "markdown",
      "metadata": {
        "id": "tKYQxaGvbWoo"
      },
      "source": [
        "## Почему нас это волнует?"
      ]
    },
    {
      "cell_type": "markdown",
      "metadata": {
        "id": "UHoqq6sGbWop"
      },
      "source": [
        "Типы данных - одна из тех вещей, о которых вы, как правило, не заботитесь, пока не получите ошибку или неожиданные результаты. Это также одна из первых вещей, которую вы должны проверить после загрузки новых данных в pandas для дальнейшего анализа."
      ]
    },
    {
      "cell_type": "markdown",
      "metadata": {
        "id": "924qKkL7bWoq"
      },
      "source": [
        "Я буду использовать очень простой CSV файл, чтобы проиллюстрировать пару распространенных ошибок, которые вы можете встретить."
      ]
    },
    {
      "cell_type": "code",
      "metadata": {
        "id": "LwRitV2sbWot"
      },
      "source": [
        "import pandas as pd\n",
        "import numpy as np"
      ],
      "execution_count": null,
      "outputs": []
    },
    {
      "cell_type": "code",
      "metadata": {
        "id": "7z0k51m2bWow"
      },
      "source": [
        "df = pd.read_csv(\"https://github.com/dm-fedorov/pandas_basic/blob/master/%D0%B1%D1%8B%D1%81%D1%82%D1%80%D0%BE%D0%B5%20%D0%B2%D0%B2%D0%B5%D0%B4%D0%B5%D0%BD%D0%B8%D0%B5%20%D0%B2%20pandas/data/sales_data_types.csv?raw=True\")"
      ],
      "execution_count": null,
      "outputs": []
    },
    {
      "cell_type": "code",
      "metadata": {
        "id": "SfZHWsjdbWox"
      },
      "source": [
        "df"
      ],
      "execution_count": null,
      "outputs": []
    },
    {
      "cell_type": "markdown",
      "metadata": {
        "id": "hAgoqfjqbWoy"
      },
      "source": [
        "На первый взгляд данные выглядят нормально, поэтому попробуем выполнить некоторые операции. \n",
        "\n",
        "Сложим продажи за `2016` и `2017` годы:"
      ]
    },
    {
      "cell_type": "code",
      "metadata": {
        "id": "TtE5RE1WbWoz"
      },
      "source": [
        "df['2016'] + df['2017']"
      ],
      "execution_count": null,
      "outputs": []
    },
    {
      "cell_type": "markdown",
      "metadata": {
        "id": "Q-R2UVBfbWo0"
      },
      "source": [
        "Выглядит странно. Мы хотели суммировать значения столбцов, но pandas их объединил, чтобы создать одну длинную строку. \n",
        "\n",
        "Ключ к разгадке проблемы - это строка, в которой написано `dtype: object`. \n",
        "\n",
        "`object` - это строка в pandas, поэтому он выполняет строковую конкатенацию вместо математического сложения."
      ]
    },
    {
      "cell_type": "markdown",
      "metadata": {
        "id": "bNXUepp6bWo1"
      },
      "source": [
        "Если мы хотим увидеть все типы данных, которые находятся в кадре данных (`DataFrame`), то воспользуемся атрибутом `dtypes`:"
      ]
    },
    {
      "cell_type": "code",
      "metadata": {
        "id": "BGuzVFATbWo6"
      },
      "source": [
        "df.dtypes"
      ],
      "execution_count": null,
      "outputs": []
    },
    {
      "cell_type": "markdown",
      "metadata": {
        "id": "MWAL2CUpbWo8"
      },
      "source": [
        "Кроме того, функция [`df.info()`](https://pandas.pydata.org/pandas-docs/stable/reference/api/pandas.DataFrame.info.html) показывает много полезной информации:"
      ]
    },
    {
      "cell_type": "code",
      "metadata": {
        "id": "bXHva2WNbWo9"
      },
      "source": [
        "df.info()"
      ],
      "execution_count": null,
      "outputs": []
    },
    {
      "cell_type": "markdown",
      "metadata": {
        "id": "RUnJoIVEbWo9"
      },
      "source": [
        "После просмотра автоматически назначаемых типов данных возникает несколько проблем:"
      ]
    },
    {
      "cell_type": "markdown",
      "metadata": {
        "id": "quYYEgDcbWo9"
      },
      "source": [
        "- `Customer Number` (Номер клиента) - `float64`, но должен быть `int64`.\n",
        "- Столбцы `2016` и `2017` хранятся как `objects`, а не числовые значения, такие как `float64` или `int64`.\n",
        "- `Percent Growth` (Единицы процентного роста) и `Jan Units` также хранятся как `objects`, а не числовые значения.\n",
        "- У нас есть столбцы `Month`, `Day` и `Year`, которые нужно преобразовать в `datetime64`.\n",
        "- Столбец `Active` должен быть логическим (`boolean`)."
      ]
    },
    {
      "cell_type": "markdown",
      "metadata": {
        "id": "GcvNZfqLbWo-"
      },
      "source": [
        "Без проведения очистки данных будет сложно провести дополнительный анализ.\n",
        "\n",
        "> Чтобы преобразовать типы данных в pandas, есть три основных способа:\n",
        "- Используйте метод [`astype()`](https://pandas.pydata.org/docs/reference/api/pandas.Series.astype.html), чтобы принудительно задать тип данных.\n",
        "- Создайте настраиваемую (custom) функцию для преобразования данных.\n",
        "- Используйте функции [`to_numeric()`](https://pandas.pydata.org/pandas-docs/stable/reference/api/pandas.to_numeric.html) или [`to_datetime()`](https://pandas.pydata.org/pandas-docs/stable/reference/api/pandas.to_datetime.html)."
      ]
    },
    {
      "cell_type": "markdown",
      "metadata": {
        "id": "l_Jfd3zKbWo-"
      },
      "source": [
        "## Использование функции astype()\n",
        "\n",
        "Самый простой способ преобразовать столбец данных в другой тип - использовать [`astype()`](https://pandas.pydata.org/docs/reference/api/pandas.Series.astype.html). Например, чтобы преобразовать `Customer Number` (Номер клиента) в целое число, можем сделать так:"
      ]
    },
    {
      "cell_type": "code",
      "metadata": {
        "id": "C609NV15bWo-"
      },
      "source": [
        "df['Customer Number'].astype('int') # pandas понимает, что в итоге нужен int64"
      ],
      "execution_count": null,
      "outputs": []
    },
    {
      "cell_type": "markdown",
      "metadata": {
        "id": "nJchAaa-bWo_"
      },
      "source": [
        "Чтобы изменить `Customer Number` в исходном кадре данных, обязательно присвойте его обратно столбцу, так как функция `astype()` возвращает копию:"
      ]
    },
    {
      "cell_type": "code",
      "metadata": {
        "id": "NQCZKRLZbWo_"
      },
      "source": [
        "df[\"Customer Number\"] = df['Customer Number'].astype('int')\n",
        "df.dtypes"
      ],
      "execution_count": null,
      "outputs": []
    },
    {
      "cell_type": "markdown",
      "metadata": {
        "id": "uD_UxCtkbWo_"
      },
      "source": [
        "А вот новый кадр данных с `Customer Number` в качестве целого числа:"
      ]
    },
    {
      "cell_type": "code",
      "metadata": {
        "id": "m8F2T9kNbWo_"
      },
      "source": [
        "df"
      ],
      "execution_count": null,
      "outputs": []
    },
    {
      "cell_type": "markdown",
      "metadata": {
        "id": "lVSq3THEbWpA"
      },
      "source": [
        "Все это выглядит хорошо и кажется довольно простым. \n",
        "\n",
        "Давайте попробуем проделать то же самое со столбцом `2016` и преобразовать его в число с плавающей точкой:"
      ]
    },
    {
      "cell_type": "code",
      "metadata": {
        "scrolled": true,
        "id": "ewxeFi1RbWpA"
      },
      "source": [
        "# здесь появится исключение:\n",
        "\n",
        "# df['2016'].astype('float')"
      ],
      "execution_count": null,
      "outputs": []
    },
    {
      "cell_type": "markdown",
      "metadata": {
        "id": "4GSHtoKtbWpB"
      },
      "source": [
        "Аналогичным образом мы можем попытаться преобразовать столбец `Jan Units` в целое число:"
      ]
    },
    {
      "cell_type": "code",
      "metadata": {
        "id": "Ry_FblMdbWpB"
      },
      "source": [
        "# здесь тоже появится исключение:\n",
        "\n",
        "# df['Jan Units'].astype('int')"
      ],
      "execution_count": null,
      "outputs": []
    },
    {
      "cell_type": "markdown",
      "metadata": {
        "id": "b_3mxcrLbWpB"
      },
      "source": [
        "Оба примера возвращают исключения `ValueError`, т.е. преобразования не сработали.\n",
        "\n",
        "В каждом из случаев данные включали значения, которые нельзя было интерпретировать как числа. В столбцах продаж данные включают символ валюты `$`, а также запятую. В столбце `Jan Units` последним значением является `Closed` (Закрыто), которое не является числом; так что мы получаем исключение.\n",
        "\n",
        "Пока что `astype()` как инструмент для преобразования выглядит не очень хорошо. \n",
        "\n",
        "Мы должны попробовать еще раз в столбце `Active`."
      ]
    },
    {
      "cell_type": "code",
      "metadata": {
        "id": "KsyjW4UHbWpB"
      },
      "source": [
        "df['Active'].astype('bool')"
      ],
      "execution_count": null,
      "outputs": []
    },
    {
      "cell_type": "markdown",
      "metadata": {
        "id": "StRN8qrMbWpC"
      },
      "source": [
        "На первый взгляд все выглядит нормально, но при ближайшем рассмотрении обнаруживается проблема. Все значения были интерпретированы как `True`, но последний клиент в столбце `Active` имеет флаг `N` вместо `Y`.\n",
        "\n",
        "Вывод из этого раздела такой - `astype()` будет работать, если:\n",
        "\n",
        "- данные чистые и могут быть просто интерпретированы как число;\n",
        "- вы хотите преобразовать числовое значение в строковый объект, т.е. вызвать `astype('str')`.\n",
        "\n",
        "Если данные содержат нечисловые символы или неоднородны, то `astype()` будет плохим выбором для преобразования типов. Вам потребуется выполнить дополнительные преобразования, чтобы изменение типа работало правильно."
      ]
    },
    {
      "cell_type": "markdown",
      "metadata": {
        "id": "wIdr_6QPbWpC"
      },
      "source": [
        "### Дополнительно\n",
        "\n",
        "Отметим, что `astype()` может принимать словарь имен столбцов и типов данных:"
      ]
    },
    {
      "cell_type": "code",
      "metadata": {
        "id": "LeEXVxI6bWpD"
      },
      "source": [
        "df.astype({'Customer Number': 'int', 'Customer Name': 'str'}).dtypes"
      ],
      "execution_count": null,
      "outputs": []
    },
    {
      "cell_type": "markdown",
      "metadata": {
        "id": "D1Rn74KlbWpD"
      },
      "source": [
        "## Пользовательские функции преобразования\n",
        "\n",
        "Поскольку эти данные немного сложнее преобразовать, можно создать настраиваемую (custom) функцию, которую применим к каждому значению и преобразовать в соответствующий тип данных.\n",
        "\n",
        "Для конвертации валюты (этого конкретного набора данных) мы можем использовать простую функцию:"
      ]
    },
    {
      "cell_type": "code",
      "metadata": {
        "id": "hzbAlJUFbWpD"
      },
      "source": [
        "def convert_currency(val):\n",
        "    \"\"\"\n",
        "    Преобразует числовое значение строки в число с плавающей точкой:\n",
        "     - удаляет $\n",
        "     - удаляет запятые\n",
        "     - преобразует в число с плавающей точкой\n",
        "    \"\"\"\n",
        "    new_val = val.replace(',', '').replace('$', '')\n",
        "    return float(new_val)"
      ],
      "execution_count": null,
      "outputs": []
    },
    {
      "cell_type": "markdown",
      "metadata": {
        "id": "H5nDH0pmbWpD"
      },
      "source": [
        "В коде используются строковые функции Python, чтобы очистить символы `$` и `,`, а затем преобразовать значение в число с плавающей точкой. В этом конкретном случае мы могли бы преобразовать значения в целые числа, но я предпочитаю использовать плавающую точку.\n",
        "\n",
        "Я также подозреваю, что кто-нибудь рекомендует использовать тип данных [`Decimal`](https://docs.python.org/3/library/decimal.html) для валюты. Это не встроенный тип в pandas, поэтому я намеренно придерживаюсь подхода с плавающей точкой.\n",
        "\n",
        "Также следует отметить, что функция преобразует число в питоновский `float`, но pandas внутренне преобразует его в `float64`. Как упоминалось ранее, я рекомендую разрешить pandas выполнять такие преобразования. Вам не нужно пытаться понижать до меньшего или повышать до большего размера байта, если вы действительно не знаете, зачем это нужно.\n",
        "\n",
        "Теперь мы можем использовать функцию [`apply`](https://pandas.pydata.org/pandas-docs/stable/reference/api/pandas.Series.apply.html), чтобы применить ее ко всем значениям в столбце `2016`."
      ]
    },
    {
      "cell_type": "code",
      "metadata": {
        "id": "CIZvQGwdbWpE"
      },
      "source": [
        "df['2016'].apply(convert_currency)"
      ],
      "execution_count": null,
      "outputs": []
    },
    {
      "cell_type": "markdown",
      "metadata": {
        "id": "TpfL3t_ZbWpE"
      },
      "source": [
        "Успех! Все значения отображаются как `float64`, поэтому мы можем выполнять необходимые математические функции.\n",
        "\n",
        "Я уверен, что более опытные читатели спрашивают, почему я просто не использовал лямбда-функцию? \n",
        "\n",
        "Прежде чем я отвечу, вот что мы могли бы сделать в одной строке с помощью лямбда-функции:"
      ]
    },
    {
      "cell_type": "code",
      "metadata": {
        "id": "Doudo5_UbWpE"
      },
      "source": [
        "df['2016'].apply(lambda x: x.replace('$', '').replace(',', '')).astype('float')"
      ],
      "execution_count": null,
      "outputs": []
    },
    {
      "cell_type": "markdown",
      "metadata": {
        "id": "mFTrCSCqbWpF"
      },
      "source": [
        "Используя `lambda`, мы можем упростить код до одной строки, что является совершенно правильным подходом. Этот подход вызывает у меня три основных опасения:\n",
        "\n",
        "- Если вы только изучаете Python / pandas, я думаю, что более длинная функция более читабельна. Основная причина в том, что она содержит комментарии и может быть разбита на несколько этапов. Новичку немного сложнее понять лямбда-функции.\n",
        "- Во-вторых, если вы собираетесь использовать эту функцию для нескольких столбцов, я предпочитаю не дублировать длинную лямбда-функцию.\n",
        "- Наконец, использование функции упрощает очистку данных при использовании `read_csv()`. Я расскажу об этом в конце Блокнота.\n",
        "\n",
        "Некоторые читатели могут возразить, что подходы на основе `lambda` имеют более высокую производительность по сравнению с пользовательской функцией. Это может быть правдой, но я считаю, что для обучения новых пользователей предпочтительнее использовать функциональный подход.\n",
        "\n",
        "Вот полный пример преобразования данных в обоих столбцах продаж с помощью функции `convert_currency`."
      ]
    },
    {
      "cell_type": "code",
      "metadata": {
        "id": "AB7oJlnfbWpF"
      },
      "source": [
        "df['2016'] = df['2016'].apply(convert_currency)\n",
        "df['2017'] = df['2017'].apply(convert_currency)\n",
        "\n",
        "df.dtypes"
      ],
      "execution_count": null,
      "outputs": []
    },
    {
      "cell_type": "markdown",
      "metadata": {
        "id": "d-8NfCGNbWpG"
      },
      "source": [
        "В качестве другого примера использования `lambda` против функции мы можем взглянуть на процесс исправления столбца `Percent Growth`. \n",
        "\n",
        "Используя `lambda`:"
      ]
    },
    {
      "cell_type": "code",
      "metadata": {
        "id": "KYcUrxa2bWpG"
      },
      "source": [
        "df['Percent Growth'].apply(lambda x: x.replace('%', '')).astype('float') / 100"
      ],
      "execution_count": null,
      "outputs": []
    },
    {
      "cell_type": "markdown",
      "metadata": {
        "id": "jwcOH51ybWpG"
      },
      "source": [
        "То же самое и с пользовательской функцией:"
      ]
    },
    {
      "cell_type": "code",
      "metadata": {
        "id": "oOBQ9JYRbWpH"
      },
      "source": [
        "def convert_percent(val):\n",
        "    \"\"\"\n",
        "    Преобразование процентной строки в фактический процент с плавающей точкой:\n",
        "     - Удаляет %\n",
        "     - Делит на 100, чтобы получить десятичную дробь\n",
        "    \"\"\"\n",
        "    new_val = val.replace('%', '')\n",
        "    return float(new_val) / 100"
      ],
      "execution_count": null,
      "outputs": []
    },
    {
      "cell_type": "code",
      "metadata": {
        "id": "qwbzboD1bWpH"
      },
      "source": [
        "df['Percent Growth'].apply(convert_percent)"
      ],
      "execution_count": null,
      "outputs": []
    },
    {
      "cell_type": "markdown",
      "metadata": {
        "id": "Sdd1qqulbWpH"
      },
      "source": [
        "Последняя настраиваемая функция, о которой я расскажу, использует [`np.where()`](https://numpy.org/doc/stable/reference/generated/numpy.where.html) для преобразования столбца `Active` в логическое значение. \n",
        "\n",
        "Основная идея состоит в том, чтобы использовать функцию `np.where()` для преобразования всех значений `Y` в `True`, а всему остальному назначить `False`."
      ]
    },
    {
      "cell_type": "code",
      "metadata": {
        "id": "KlXrnAxxbWpI"
      },
      "source": [
        "df[\"Active\"] = np.where(df[\"Active\"] == \"Y\", True, False)"
      ],
      "execution_count": null,
      "outputs": []
    },
    {
      "cell_type": "markdown",
      "metadata": {
        "id": "s1UEdI7AbWpI"
      },
      "source": [
        "В результате получается следующий кадр данных:"
      ]
    },
    {
      "cell_type": "code",
      "metadata": {
        "id": "UHuaccr_bWpI"
      },
      "source": [
        "df"
      ],
      "execution_count": null,
      "outputs": []
    },
    {
      "cell_type": "markdown",
      "metadata": {
        "id": "PZu_6zsgbWpI"
      },
      "source": [
        "Для `dtype` правильно установлено значение `bool`."
      ]
    },
    {
      "cell_type": "code",
      "metadata": {
        "id": "_8ymt_lxbWpJ"
      },
      "source": [
        "df.dtypes"
      ],
      "execution_count": null,
      "outputs": []
    },
    {
      "cell_type": "markdown",
      "metadata": {
        "id": "aRBaYi2FbWpJ"
      },
      "source": [
        "Независимо от того, решите ли вы использовать лямбда-функцию или другой подход, например `np.where()`, все эти способы очень гибкие и могут быть настроены для ваших собственных уникальных потребностей в данных."
      ]
    },
    {
      "cell_type": "markdown",
      "metadata": {
        "id": "b0u-rYZ6bWpJ"
      },
      "source": [
        "## Вспомогательные функции pandas\n",
        "\n",
        "У pandas есть золотая середина между простой функцией `astype()` и более сложными пользовательскими функциями. Эти вспомогательные функции могут быть очень полезны для преобразования определенных типов данных.\n",
        "\n",
        "Если вы следовали инструкциям, вы заметите, что я ничего не делал с столбцами даты или столбцом `Jan Units`. Оба столбца могут быть преобразованы с помощью встроенных в pandas функций, таких как `pd.to_numeric()` и `pd.to_datetime()`.\n",
        "\n",
        "Причина, по которой преобразование `Jan Units` проблематично, заключается в том, что в столбце содержится нечисловое значение. Если бы мы попытались использовать `astype()`, то получили бы ошибку (как описано ранее). Функция `pd.to_numeric()` может обрабатывать эти значения более изящно:"
      ]
    },
    {
      "cell_type": "code",
      "metadata": {
        "id": "ShbVMTPcbWpJ"
      },
      "source": [
        "pd.to_numeric(df['Jan Units'], errors='coerce')"
      ],
      "execution_count": null,
      "outputs": []
    },
    {
      "cell_type": "markdown",
      "metadata": {
        "id": "FwM2f68_bWpK"
      },
      "source": [
        "Следует отметить несколько моментов. Во-первых, функция легко обрабатывает данные и создает столбец `float64`. Кроме того, она заменяет недопустимое значение `Closed` на значение `NaN`, потому что мы передали аргумент `errors=coerce`. Мы можем оставить это значение там или заполнить его `0` с помощью `fillna(0)`:"
      ]
    },
    {
      "cell_type": "code",
      "metadata": {
        "id": "7bIjdbDjbWpK"
      },
      "source": [
        "pd.to_numeric(df['Jan Units'], errors='coerce').fillna(0)"
      ],
      "execution_count": null,
      "outputs": []
    },
    {
      "cell_type": "markdown",
      "metadata": {
        "id": "DD239qQcbWpK"
      },
      "source": [
        "Последнее преобразование, о котором я расскажу, - это преобразование отдельных столбцов месяца, дня и года в тип `datetime`. Функцию  [`pd.to_datetime()`](https://pandas.pydata.org/pandas-docs/stable/reference/api/pandas.to_datetime.html) можно настраивать, но по умолчанию она также довольно умна."
      ]
    },
    {
      "cell_type": "code",
      "metadata": {
        "id": "ZThW1UsjbWpK"
      },
      "source": [
        "pd.to_datetime(df[['Month', 'Day', 'Year']])"
      ],
      "execution_count": null,
      "outputs": []
    },
    {
      "cell_type": "markdown",
      "metadata": {
        "id": "u_K0IwMkbWpL"
      },
      "source": [
        "В этом случае функция объединяет столбцы в новую серию, соответствующую типу `datateime64`.\n",
        "\n",
        "Мы должны убедиться, что присвоили эти значения обратно кадру данных:"
      ]
    },
    {
      "cell_type": "code",
      "metadata": {
        "id": "XRUj33mmbWpL"
      },
      "source": [
        "df[\"Start_Date\"] = pd.to_datetime(df[['Month', 'Day', 'Year']])\n",
        "df[\"Jan Units\"] = pd.to_numeric(df['Jan Units'], errors='coerce').fillna(0)"
      ],
      "execution_count": null,
      "outputs": []
    },
    {
      "cell_type": "code",
      "metadata": {
        "id": "6XLi_lFPbWpL"
      },
      "source": [
        "df"
      ],
      "execution_count": null,
      "outputs": []
    },
    {
      "cell_type": "markdown",
      "metadata": {
        "id": "ZMvlex-wbWpL"
      },
      "source": [
        "Теперь данные правильно преобразованы во все нужные нам типы:"
      ]
    },
    {
      "cell_type": "code",
      "metadata": {
        "id": "v5XWuhnHbWpL"
      },
      "source": [
        "df.dtypes"
      ],
      "execution_count": null,
      "outputs": []
    },
    {
      "cell_type": "markdown",
      "metadata": {
        "id": "7Tv7smSLbWpM"
      },
      "source": [
        "Кадр данных готов к анализу!"
      ]
    },
    {
      "cell_type": "markdown",
      "metadata": {
        "id": "Zgs6arzabWpM"
      },
      "source": [
        "## Собираем все вместе\n",
        "\n",
        "Основные концепции использования `astype()` и пользовательских функций могут быть включены на очень раннем этапе процесса анализа данных. Если у вас есть файл с данными, который вы собираетесь обрабатывать повторно, и он всегда имеет один и тот же формат, вы можете задать параметры `dtype` и `converters`, которые будут применяться при чтении данных. Полезно думать о `dtype` как о выполнении функции `astype()` для данных. Аргументы `converters` позволяют применять функции к различным входным столбцам аналогично подходам, описанным выше.\n",
        "\n",
        "Важно отметить, что вы можете применить `dtype` или функцию `converter` к указанному столбцу только один раз, используя этот подход. Если вы попытаетесь применить оба к одному столбцу, то `dtype` будет пропущен.\n",
        "\n",
        "Вот упрощенный пример, который выполняет почти все преобразования во время считывания данных:"
      ]
    },
    {
      "cell_type": "code",
      "metadata": {
        "id": "BmcyLPqrbWpM"
      },
      "source": [
        "df_2 = pd.read_csv(\"https://github.com/dm-fedorov/pandas_basic/blob/master/%D0%B1%D1%8B%D1%81%D1%82%D1%80%D0%BE%D0%B5%20%D0%B2%D0%B2%D0%B5%D0%B4%D0%B5%D0%BD%D0%B8%D0%B5%20%D0%B2%20pandas/data/sales_data_types.csv?raw=True\", \n",
        "                   dtype={'Customer Number': 'int'},\n",
        "                   converters={'2016': convert_currency,\n",
        "                               '2017': convert_currency,\n",
        "                               'Percent Growth': convert_percent,\n",
        "                               'Jan Units': lambda x: pd.to_numeric(x, errors='coerce'),\n",
        "                               'Active': lambda x: np.where(x == \"Y\", True, False)\n",
        "                              })"
      ],
      "execution_count": null,
      "outputs": []
    },
    {
      "cell_type": "code",
      "metadata": {
        "id": "lwbnkvezbWpM"
      },
      "source": [
        "df_2"
      ],
      "execution_count": null,
      "outputs": []
    },
    {
      "cell_type": "code",
      "metadata": {
        "id": "WQL8OE1AbWpM"
      },
      "source": [
        "df_2.dtypes"
      ],
      "execution_count": null,
      "outputs": []
    },
    {
      "cell_type": "markdown",
      "metadata": {
        "id": "AKIv8rqkbWpN"
      },
      "source": [
        "Как упоминалось ранее, я решил включить пример `lambda`, а также пример функции для преобразования данных. Единственная функция, которую здесь нельзя применить, - это преобразование столбцов `Month`, `Day` и `Year` в соответствующий столбец `datetime`. Тем не менее, это мощное соглашение, которое может помочь улучшить конвейер обработки данных."
      ]
    },
    {
      "cell_type": "markdown",
      "metadata": {
        "id": "EByFtSOabWpN"
      },
      "source": [
        "## Резюме\n",
        "\n",
        "Один из первых шагов при изучении нового набора данных - убедиться, что типы данных установлены правильно. В большинстве случаев pandas делает разумные выводы, но в наборах данных достаточно тонкостей, поэтому важно знать, как использовать различные параметры преобразования данных, доступные в pandas. "
      ]
    },
    {
      "cell_type": "markdown",
      "metadata": {
        "id": "Dd6oVno2bWpN"
      },
      "source": [
        "<a href=\"https://t.me/init_python\"><img src=\"https://dfedorov.spb.ru/pandas/logo-telegram.png\" width=\"35\" height=\"35\" alt=\"telegram\" align=\"left\"></a>"
      ]
    },
    {
      "cell_type": "code",
      "metadata": {
        "id": "Vv8MgeV2bWpN"
      },
      "source": [
        ""
      ],
      "execution_count": null,
      "outputs": []
    }
  ]
}